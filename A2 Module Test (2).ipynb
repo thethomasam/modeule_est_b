{
 "cells": [
  {
   "cell_type": "code",
   "execution_count": null,
   "metadata": {},
   "outputs": [],
   "source": [
    "import pandas as pd\n",
    "import numpy as np\n",
    "%matplotlib inline\n",
    "import otter\n",
    "grader = otter.Notebook()"
   ]
  },
  {
   "cell_type": "markdown",
   "metadata": {},
   "source": [
    "# A2 | Module Test"
   ]
  },
  {
   "cell_type": "markdown",
   "metadata": {},
   "source": [
    "<!-- BEGIN QUESTION -->\n",
    "\n",
    "## Part I&nbsp;&nbsp;&nbsp;&nbsp;&nbsp;&nbsp;(10 Points)"
   ]
  },
  {
   "cell_type": "code",
   "execution_count": 3,
   "metadata": {
    "tags": []
   },
   "outputs": [
    {
     "name": "stdout",
     "output_type": "stream",
     "text": [
      "Enter the string: PYTHON\n",
      "y\n",
      "t\n",
      "h\n",
      "o\n"
     ]
    }
   ],
   "source": [
    "# Write your solution here\n",
    "x=input('Enter the string: ')\n",
    "\n",
    "for i in x[1:-1]:\n",
    "    print(i.lower())"
   ]
  },
  {
   "cell_type": "markdown",
   "metadata": {},
   "source": [
    "<!-- END QUESTION -->\n",
    "\n",
    "<!-- BEGIN QUESTION -->\n",
    "\n",
    "## Part II&nbsp;&nbsp;&nbsp;&nbsp;&nbsp;&nbsp;(30 Points)"
   ]
  },
  {
   "cell_type": "code",
   "execution_count": 37,
   "metadata": {
    "tags": []
   },
   "outputs": [
    {
     "name": "stdout",
     "output_type": "stream",
     "text": [
      "False\n",
      "False\n",
      "False\n",
      "False\n",
      "True\n",
      "True\n"
     ]
    }
   ],
   "source": [
    "# Write your solution here\n",
    "def is_valid_username(user):\n",
    "    count_d,count_s=0,0\n",
    " \n",
    "    for i in user:\n",
    "        if i.isdigit():\n",
    "            count_d+=1\n",
    "        else :\n",
    "            count_s+=1\n",
    "   \n",
    "    if not (len(user)>=5):\n",
    "        if len(user)<=10:\n",
    "            \n",
    "  \n",
    "            return False\n",
    "    if not user.isalnum():\n",
    "     \n",
    "        return False\n",
    "\n",
    "    if not user[0].isalpha():\n",
    "       \n",
    "        return False\n",
    "    if count_d>count_s:\n",
    "        \n",
    "        return False\n",
    "    else:\n",
    "        return True\n",
    "\n",
    "print(is_valid_username(\"John\"))\n",
    "print(is_valid_username(\"1John12\"))\n",
    "print(is_valid_username(\"John12$\"))\n",
    "print(is_valid_username(\"John12345\"))\n",
    "print(is_valid_username(\"John12\"))\n",
    "print(is_valid_username(\"John1234\"))"
   ]
  },
  {
   "cell_type": "markdown",
   "metadata": {},
   "source": [
    "<!-- END QUESTION -->\n",
    "\n",
    "<!-- BEGIN QUESTION -->\n",
    "\n",
    "## Part III&nbsp;&nbsp;&nbsp;&nbsp;&nbsp;&nbsp;(60 Points)"
   ]
  },
  {
   "cell_type": "code",
   "execution_count": null,
   "metadata": {
    "tags": []
   },
   "outputs": [],
   "source": [
    "# Write your solution here\n",
    "import math\n",
    "def initial_robot_calculations(list_1,list_2,mode=\"construct_dict\"):\n",
    "    duplia_dict={}\n",
    "    duplib_dict={}\n",
    "    if mode=='construct_dict':\n",
    "        \n",
    "        for i in list_1:\n",
    "            count_temp=0\n",
    "            for j in list_1:\n",
    "                if i==j:\n",
    "                    count_temp+=1\n",
    "            duplia_dict[i]=count_temp\n",
    "#             print(dupli_dict)   \n",
    "        \n",
    "        for i in list_2:\n",
    "            count_temp=0\n",
    "            for j in list_2:\n",
    "                if i==j:\n",
    "                    count_temp+=1\n",
    "            \n",
    "            duplib_dict[i]=count_temp\n",
    "        for i in duplia_dict.keys():\n",
    "            if i in duplib_dict.keys():\n",
    "                duplib_dict[i]+=duplia_dict[i]\n",
    "            else:\n",
    "                duplib_dict[i]=duplia_dict[i]\n",
    "        return duplib_dict\n",
    "    \n",
    "    elif  mode=='listoflists_sum':\n",
    "        max_n=0\n",
    "        for i in list_1:\n",
    "            if sum(i)>max_n:\n",
    "                max_n=sum(i)\n",
    "        for i in list_2:\n",
    "            if sum(i)>max_n:\n",
    "                max_n=sum(i)\n",
    "        return max_n\n",
    "    elif mode==\"calculate_sum\":\n",
    "        num=\"\"\n",
    "        num2=\"\"\n",
    "        for i in list_1:\n",
    "            num+=str(i)\n",
    "        num=int(num)\n",
    "        for i in list_2:\n",
    "            num2+=str(i)\n",
    "        num2=int(num2)\n",
    "        \n",
    "        return num+num2\n",
    "        \n",
    "\n",
    "   \n",
    "    \n",
    "import ast\n",
    "x=['initial_robot_calculations','construct_dict','listoflists_sum']\n",
    "mode=input(\"Enter calculation Name: \")\n",
    "if mode in x:\n",
    "    \n",
    "    list_1=input(\"Enter List_1: \")\n",
    "    list_2=input(\"Enter List_2: \")\n",
    "    list_1 = ast.literal_eval(list_1)\n",
    "    list_2 = ast.literal_eval(list_2)\n",
    "else:\n",
    "    print('Unsupported operation')\n",
    "\n",
    "        \n"
   ]
  },
  {
   "cell_type": "code",
   "execution_count": 64,
   "metadata": {},
   "outputs": [
    {
     "data": {
      "text/plain": [
       "9"
      ]
     },
     "execution_count": 64,
     "metadata": {},
     "output_type": "execute_result"
    }
   ],
   "source": [
    "sum([2, 6, 1])"
   ]
  },
  {
   "cell_type": "markdown",
   "metadata": {},
   "source": [
    "<!-- END QUESTION -->\n",
    "\n"
   ]
  }
 ],
 "metadata": {
  "celltoolbar": "Edit Metadata",
  "kernelspec": {
   "display_name": "Python 3",
   "language": "python",
   "name": "python3"
  },
  "language_info": {
   "codemirror_mode": {
    "name": "ipython",
    "version": 3
   },
   "file_extension": ".py",
   "mimetype": "text/x-python",
   "name": "python",
   "nbconvert_exporter": "python",
   "pygments_lexer": "ipython3",
   "version": "3.6.13"
  },
  "varInspector": {
   "cols": {
    "lenName": 16,
    "lenType": 16,
    "lenVar": 40
   },
   "kernels_config": {
    "python": {
     "delete_cmd_postfix": "",
     "delete_cmd_prefix": "del ",
     "library": "var_list.py",
     "varRefreshCmd": "print(var_dic_list())"
    },
    "r": {
     "delete_cmd_postfix": ") ",
     "delete_cmd_prefix": "rm(",
     "library": "var_list.r",
     "varRefreshCmd": "cat(var_dic_list()) "
    }
   },
   "types_to_exclude": [
    "module",
    "function",
    "builtin_function_or_method",
    "instance",
    "_Feature"
   ],
   "window_display": false
  }
 },
 "nbformat": 4,
 "nbformat_minor": 4
}
